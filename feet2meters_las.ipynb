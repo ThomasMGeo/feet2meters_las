{
 "cells": [
  {
   "cell_type": "code",
   "execution_count": 30,
   "metadata": {},
   "outputs": [],
   "source": [
    "# Some well logs are in fractional feet, but science is done in meters. \n",
    "# Simple tool written to convert standard well log data to depth in feet\n",
    "# shoutout to lasio"
   ]
  },
  {
   "cell_type": "code",
   "execution_count": 39,
   "metadata": {},
   "outputs": [],
   "source": [
    "import lasio\n",
    "from datetime import datetime # lets get the date"
   ]
  },
  {
   "cell_type": "code",
   "execution_count": 40,
   "metadata": {},
   "outputs": [
    {
     "name": "stderr",
     "output_type": "stream",
     "text": [
      "Header section Parameter regexp=~P was not found.\n"
     ]
    }
   ],
   "source": [
    "datafile=\"204_30-1_DATACO_JWDL_QC\" # want to loop over all *.las files in folder in the future\n",
    "\n",
    "datafile_las = datafile+\".las\"\n",
    "\n",
    "las = lasio.read(datafile_las)\n",
    "# Don't pay attenton to the header error, these are fairly sparce headers (free UK gov .las)"
   ]
  },
  {
   "cell_type": "code",
   "execution_count": 41,
   "metadata": {},
   "outputs": [
    {
     "name": "stdout",
     "output_type": "stream",
     "text": [
      "Current depth units: FT\n"
     ]
    }
   ],
   "source": [
    "print (\"Current depth units: \" + las.curves.DEPTH.unit) # lets print out the current units\n"
   ]
  },
  {
   "cell_type": "code",
   "execution_count": 43,
   "metadata": {},
   "outputs": [],
   "source": [
    "if las.curves.DEPTH.unit == 'FT' or 'ft' or 'feet' or 'foot' or 'Ft':\n",
    "    las.add_curve('DEPHM', las.depth_m, unit='m', descr= 'Depth in meters, added after the fact')\n",
    "    las.well['DATEMOD'] = lasio.HeaderItem(mnemonic='DATEMOD', value=str(datetime.today()), descr='Date Modified with new depth column')\n"
   ]
  },
  {
   "cell_type": "code",
   "execution_count": 45,
   "metadata": {},
   "outputs": [],
   "source": [
    "# write out to file, can write out to version 1.2 as well ... but lets not do that\n",
    "\n",
    "las.write(datafile+'_DEPTH_M'+'.las', version=2)"
   ]
  },
  {
   "cell_type": "markdown",
   "metadata": {},
   "source": [
    "plt.figure(figsize=(5,16))\n",
    "plt.plot(gr, z, color='lightblue')\n",
    "plt.plot(z, neutron, lw=3, color='red')\n",
    "plt.plot(z, selfp, lw=1, color='black')\n",
    "plt.show()"
   ]
  }
 ],
 "metadata": {
  "kernelspec": {
   "display_name": "Python [conda env:wells]",
   "language": "python",
   "name": "conda-env-wells-py"
  },
  "language_info": {
   "codemirror_mode": {
    "name": "ipython",
    "version": 3
   },
   "file_extension": ".py",
   "mimetype": "text/x-python",
   "name": "python",
   "nbconvert_exporter": "python",
   "pygments_lexer": "ipython3",
   "version": "3.6.5"
  }
 },
 "nbformat": 4,
 "nbformat_minor": 2
}
